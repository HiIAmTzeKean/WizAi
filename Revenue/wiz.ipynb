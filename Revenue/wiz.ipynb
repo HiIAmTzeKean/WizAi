{
 "cells": [
  {
   "cell_type": "code",
   "execution_count": 138,
   "metadata": {},
   "outputs": [],
   "source": [
    "import pandas as pd\n",
    "import numpy as np\n",
    "from datetime import datetime\n",
    "from typing import List\n",
    "from os.path import isfile "
   ]
  },
  {
   "cell_type": "code",
   "execution_count": 173,
   "metadata": {},
   "outputs": [],
   "source": [
    "class Transaction():\n",
    "    def __init__(self) -> None:\n",
    "        self.files = [\"usage.xlsx\",\"subscription.xlsx\",\"development.xlsx\",\"maint.xlsx\",\"customization.xlsx\"]\n",
    "        self.SUBSCRIPTION_STRING = \"Subsciption Fees\"\n",
    "        self.USAGE_STRING = \"Usage fees\"\n",
    "        self.DEVELOPMENT_STRING = \"Development fees\"\n",
    "        self.MAINT_STRING = \"Recurring maint fees\"\n",
    "        self.CUSTOMISATION_STRING = \"Customization\"\n",
    "    \n",
    "    def get_dataframe(self, filename:str) -> pd.DataFrame:\n",
    "        df = pd.read_excel(io=filename)\n",
    "        df = df.drop(df.columns[[i for i in range(1,6)] + [8]], axis=1)\n",
    "        df.columns = ['name', 'debit', 'credit']\n",
    "        return df\n",
    "    \n",
    "    def get_transaction(self,filename:str) -> List:\n",
    "        if not isfile(filename):\n",
    "            return\n",
    "        transactions:List = []\n",
    "        entity:str = \"\"\n",
    "        credit:float = 0\n",
    "        debit:float = 0\n",
    "        account_type:str = self.get_account_type(filename)\n",
    "        df = self.get_dataframe(filename)\n",
    "        \n",
    "        for index, row in df.iterrows():\n",
    "            if pd.isnull(row[0]):\n",
    "                credit:float = 0\n",
    "                debit:float = 0\n",
    "                continue\n",
    "            \n",
    "            if type(row[0]) == datetime:\n",
    "                credit += row[\"credit\"]\n",
    "                debit += row[\"debit\"]\n",
    "                continue\n",
    "            \n",
    "            string:str = row[0]\n",
    "            if \"Total\" in string:\n",
    "                string = string.replace(\"Total\", \"\").strip()\n",
    "                # Reset all counters and prepare for next entity\n",
    "                transactions.append([f\"\\\"{string}\\\"\", account_type, credit-debit, credit, debit])\n",
    "                credit:float = 0\n",
    "                debit:float = 0\n",
    "                continue\n",
    "        return transactions\n",
    "\n",
    "    def get_account_type(self,filename:str) -> str:\n",
    "        if filename == \"usage.xlsx\":\n",
    "            return self.USAGE_STRING\n",
    "        elif filename == \"subscription.xlsx\":\n",
    "            return  self.SUBSCRIPTION_STRING\n",
    "        elif filename == \"development.xlsx\":\n",
    "            return  self.DEVELOPMENT_STRING\n",
    "        elif filename == \"maint.xlsx\":\n",
    "            return  self.MAINT_STRING\n",
    "        elif filename == \"customization.xlsx\":\n",
    "            return  self.CUSTOMISATION_STRING\n",
    "        return \"\"        \n",
    "\n",
    "    def get_transactions(self):\n",
    "        transactions:List = []\n",
    "        for file in self.files:\n",
    "            # store transactions\n",
    "            try:\n",
    "                print(file)\n",
    "                transactions.extend(self.get_transaction(file))\n",
    "            except:\n",
    "                pass\n",
    "        self.save_as_csv(transactions)\n",
    "\n",
    "    def save_as_csv(self,list_item:List) -> None:\n",
    "        np.savetxt(\"compiled.csv\", \n",
    "           list_item,\n",
    "           delimiter =\", \", \n",
    "           fmt ='%s')\n",
    "    \n",
    "    def compile_transactions(self):\n",
    "        self.get_transactions()"
   ]
  },
  {
   "cell_type": "code",
   "execution_count": 174,
   "metadata": {},
   "outputs": [
    {
     "name": "stdout",
     "output_type": "stream",
     "text": [
      "usage.xlsx\n",
      "subscription.xlsx\n",
      "development.xlsx\n",
      "maint.xlsx\n",
      "customization.xlsx\n"
     ]
    }
   ],
   "source": [
    "t = Transaction()\n",
    "t. compile_transactions()"
   ]
  },
  {
   "cell_type": "code",
   "execution_count": 12,
   "metadata": {},
   "outputs": [
    {
     "ename": "FileNotFoundError",
     "evalue": "[Errno 2] No such file or directory: 'C:'",
     "output_type": "error",
     "traceback": [
      "\u001b[0;31m---------------------------------------------------------------------------\u001b[0m",
      "\u001b[0;31mFileNotFoundError\u001b[0m                         Traceback (most recent call last)",
      "Cell \u001b[0;32mIn[12], line 3\u001b[0m\n\u001b[1;32m      1\u001b[0m filename \u001b[39m=\u001b[39m \u001b[39m\"\u001b[39m\u001b[39mC:/Users/ngtze/Github/Blockchef-Recommender/use.xlsx\u001b[39m\u001b[39m\"\u001b[39m\n\u001b[1;32m      2\u001b[0m \u001b[39mimport\u001b[39;00m \u001b[39mos\u001b[39;00m\n\u001b[0;32m----> 3\u001b[0m os\u001b[39m.\u001b[39;49mchdir(\u001b[39m\"\u001b[39;49m\u001b[39mC:\u001b[39;49m\u001b[39m\"\u001b[39;49m)\n\u001b[1;32m      4\u001b[0m os\u001b[39m.\u001b[39mpath\u001b[39m.\u001b[39misfile(filename)\n",
      "\u001b[0;31mFileNotFoundError\u001b[0m: [Errno 2] No such file or directory: 'C:'"
     ]
    }
   ],
   "source": [
    "filename = \"C:/Users/ngtze/Github/Blockchef-Recommender/use.xlsx\"\n",
    "import os\n",
    "os.chdir(\"C:\")\n",
    "os.path.isfile(filename)"
   ]
  }
 ],
 "metadata": {
  "kernelspec": {
   "display_name": "Python 3",
   "language": "python",
   "name": "python3"
  },
  "language_info": {
   "codemirror_mode": {
    "name": "ipython",
    "version": 3
   },
   "file_extension": ".py",
   "mimetype": "text/x-python",
   "name": "python",
   "nbconvert_exporter": "python",
   "pygments_lexer": "ipython3",
   "version": "3.10.6"
  },
  "orig_nbformat": 4
 },
 "nbformat": 4,
 "nbformat_minor": 2
}
